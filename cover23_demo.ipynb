{
 "cells": [
  {
   "cell_type": "markdown",
   "metadata": {
    "toc": true
   },
   "source": [
    "<h1>Table of Contents<span class=\"tocSkip\"></span></h1>\n",
    "<div class=\"toc\"><ul class=\"toc-item\"></ul></div>"
   ]
  },
  {
   "cell_type": "markdown",
   "metadata": {
    "id": "lzWca4n1cbEV"
   },
   "source": [
    "# Cover2 and Cover3 Demo\n",
    "\n",
    "Ben Freasier\n",
    "\n",
    "29 September 2020\n"
   ]
  },
  {
   "cell_type": "code",
   "execution_count": 1,
   "metadata": {
    "ExecuteTime": {
     "end_time": "2020-09-29T04:39:47.307000Z",
     "start_time": "2020-09-29T04:39:47.279000Z"
    }
   },
   "outputs": [],
   "source": [
    "# !pip install ipywidgets\n",
    "# !jupyter nbextension enable --py widgetsnbextension"
   ]
  },
  {
   "cell_type": "code",
   "execution_count": 2,
   "metadata": {
    "ExecuteTime": {
     "end_time": "2020-09-29T04:39:48.210000Z",
     "start_time": "2020-09-29T04:39:47.328000Z"
    },
    "colab": {
     "base_uri": "https://localhost:8080/",
     "height": 362
    },
    "id": "X0QQVnExi0J3",
    "outputId": "ba8e6c54-19e5-4511-a841-810085a90f4e"
   },
   "outputs": [],
   "source": [
    "import pandas as pd # table handling \n",
    "from __future__ import print_function\n",
    "from ipywidgets import interact, interactive, fixed, interact_manual\n",
    "import ipywidgets as widgets\n",
    "import ipysheet as sps\n",
    "import pandas as pd"
   ]
  },
  {
   "cell_type": "code",
   "execution_count": 3,
   "metadata": {
    "ExecuteTime": {
     "end_time": "2020-09-29T04:39:48.258000Z",
     "start_time": "2020-09-29T04:39:48.244000Z"
    },
    "colab": {
     "base_uri": "https://localhost:8080/",
     "height": 328
    },
    "id": "THFZUIhcgT2f",
    "outputId": "2e510873-ef22-41b3-c357-4fc33c42453e"
   },
   "outputs": [],
   "source": [
    "def second(p): # calculates normalized prob of runner being second, Eqn 1\n",
    "  n = len(p)\n",
    "  s = 0.\n",
    "  ps = n*[0.]\n",
    "  for i in range(n):\n",
    "    for j in range(n):\n",
    "      if i==j:\n",
    "        continue\n",
    "      x = p[i]*p[j]/(1.-p[i])\n",
    "      ps[j] += x\n",
    "  return ps"
   ]
  },
  {
   "cell_type": "code",
   "execution_count": 4,
   "metadata": {
    "ExecuteTime": {
     "end_time": "2020-09-29T04:39:48.398000Z",
     "start_time": "2020-09-29T04:39:48.300000Z"
    },
    "colab": {
     "base_uri": "https://localhost:8080/",
     "height": 328
    },
    "id": "PpjDy25om6CC",
    "outputId": "6ac7663f-199f-45dc-9204-83c779ec2c32"
   },
   "outputs": [],
   "source": [
    "def third(p): # calculates normalized prob of runner being third, Eqn 2\n",
    "  n = len(p)\n",
    "  s = 0.\n",
    "  pt = n*[0.]\n",
    "  for i in range(n):\n",
    "    for j in range(n):\n",
    "      for k in range(n):\n",
    "        if i==j:\n",
    "          continue\n",
    "        if i == k:\n",
    "          continue\n",
    "        if j == k:\n",
    "          continue\n",
    "        x = p[i]*p[j]*p[k]/((1.-p[i])*(1-p[i]-p[j]))\n",
    "        pt[k] += x\n",
    "  return pt\n"
   ]
  },
  {
   "cell_type": "code",
   "execution_count": 5,
   "metadata": {
    "ExecuteTime": {
     "end_time": "2020-09-29T04:39:48.523000Z",
     "start_time": "2020-09-29T04:39:48.431000Z"
    }
   },
   "outputs": [],
   "source": [
    "def calc_cover(b):\n",
    "    df = sps.to_dataframe(sheet)\n",
    "    df.columns = \"ID odds\".split()   \n",
    "    df[\"p\"] = 1./df[\"odds\"].apply(float)\n",
    "    s = df.p.sum()\n",
    "    # print(s)\n",
    "    df[\"p\"] = df.p/s\n",
    "    df['ps'] = second(df.p.values)\n",
    "    df['pt'] = third(df.p.values)\n",
    "    ss = 1./s\n",
    "    df['nodds'] = ss/df['p']\n",
    "    df['codds2'] = ss*(1.-df.ps)/df.p\n",
    "    df.index= df.ID\n",
    "    df['codds23'] = ss*(1.-df.ps-df.pt)/df.p\n",
    "    df=df.round(decimals=3)\n",
    "    df = df.drop('ID',axis=1)\n",
    "    display(df)\n",
    "\n",
    "# calc_cover()"
   ]
  },
  {
   "cell_type": "code",
   "execution_count": 12,
   "metadata": {
    "ExecuteTime": {
     "end_time": "2020-09-29T04:47:43.400000Z",
     "start_time": "2020-09-29T04:47:43.381000Z"
    }
   },
   "outputs": [],
   "source": [
    "def on_button_clicked(b):\n",
    "    global nr,sheet\n",
    "    with output:\n",
    "        nr = NR.value\n",
    "        sheet = sps.sheet(columns=2,rows=nr)\n",
    "        sheet.column_width=100\n",
    "        fill_ss() # development price line\n",
    "        display(sheet)"
   ]
  },
  {
   "cell_type": "code",
   "execution_count": 7,
   "metadata": {
    "ExecuteTime": {
     "end_time": "2020-09-29T04:39:48.710000Z",
     "start_time": "2020-09-29T04:39:48.620000Z"
    }
   },
   "outputs": [],
   "source": [
    "def fill_ss():\n",
    "    z = \"\"\"\n",
    "    1 4.6 3.5 3.2\n",
    "    2 4.6 3.5 3.2\n",
    "    3 21 17 17\n",
    "    4 3.6 3 2.38\n",
    "    5 8.5 7.5 7\n",
    "    6 8.5 7.5 7\n",
    "    7 34 23 23\n",
    "    8 10 9 8\n",
    "    9 10 9 8\n",
    "    10 31 23 23\n",
    "    11 41 26 26\n",
    "    12 71 41 41\n",
    "    \"\"\"\n",
    "    z = z.strip()\n",
    "    lines = z.split(\"\\n\")\n",
    "    n = len(lines)\n",
    "    ids = []\n",
    "    dodds = []\n",
    "    for l in lines:\n",
    "        w = l.split()\n",
    "        ids.append(int(w[0]))\n",
    "        dodds.append(float(w[1]))\n",
    "    for i in range(n):\n",
    "        sps.cell(i, 0, ids[i])\n",
    "        sps.cell(i, 1, dodds[i])\n",
    "\n"
   ]
  },
  {
   "cell_type": "code",
   "execution_count": 13,
   "metadata": {
    "ExecuteTime": {
     "end_time": "2020-09-29T04:47:48.417000Z",
     "start_time": "2020-09-29T04:47:48.243000Z"
    }
   },
   "outputs": [
    {
     "data": {
      "application/vnd.jupyter.widget-view+json": {
       "model_id": "bac2a5c25cf547b78b3bc0d1d873db62",
       "version_major": 2,
       "version_minor": 0
      },
      "text/plain": [
       "IntText(value=7, description=u'# Runners:')"
      ]
     },
     "metadata": {},
     "output_type": "display_data"
    },
    {
     "data": {
      "application/vnd.jupyter.widget-view+json": {
       "model_id": "c4235b330d2d4de5ae0f026a68f15691",
       "version_major": 2,
       "version_minor": 0
      },
      "text/plain": [
       "Button(description=u'# runners selected', style=ButtonStyle())"
      ]
     },
     "metadata": {},
     "output_type": "display_data"
    },
    {
     "data": {
      "application/vnd.jupyter.widget-view+json": {
       "model_id": "cce60c0b8d2e475c8340a8e266170aa3",
       "version_major": 2,
       "version_minor": 0
      },
      "text/plain": [
       "Output()"
      ]
     },
     "metadata": {},
     "output_type": "display_data"
    },
    {
     "data": {
      "application/vnd.jupyter.widget-view+json": {
       "model_id": "afbc88eaffd340b0850fe38c45688e17",
       "version_major": 2,
       "version_minor": 0
      },
      "text/plain": [
       "Button(description=u'# Do Calculation', style=ButtonStyle())"
      ]
     },
     "metadata": {},
     "output_type": "display_data"
    },
    {
     "data": {
      "application/vnd.jupyter.widget-view+json": {
       "model_id": "7e7a033ca72c4c98abb71844ad964b32",
       "version_major": 2,
       "version_minor": 0
      },
      "text/plain": [
       "Output()"
      ]
     },
     "metadata": {},
     "output_type": "display_data"
    },
    {
     "data": {
      "text/html": [
       "<div>\n",
       "<style scoped>\n",
       "    .dataframe tbody tr th:only-of-type {\n",
       "        vertical-align: middle;\n",
       "    }\n",
       "\n",
       "    .dataframe tbody tr th {\n",
       "        vertical-align: top;\n",
       "    }\n",
       "\n",
       "    .dataframe thead th {\n",
       "        text-align: right;\n",
       "    }\n",
       "</style>\n",
       "<table border=\"1\" class=\"dataframe\">\n",
       "  <thead>\n",
       "    <tr style=\"text-align: right;\">\n",
       "      <th></th>\n",
       "      <th>odds</th>\n",
       "      <th>p</th>\n",
       "      <th>ps</th>\n",
       "      <th>pt</th>\n",
       "      <th>nodds</th>\n",
       "      <th>codds2</th>\n",
       "      <th>codds23</th>\n",
       "    </tr>\n",
       "    <tr>\n",
       "      <th>ID</th>\n",
       "      <th></th>\n",
       "      <th></th>\n",
       "      <th></th>\n",
       "      <th></th>\n",
       "      <th></th>\n",
       "      <th></th>\n",
       "      <th></th>\n",
       "    </tr>\n",
       "  </thead>\n",
       "  <tbody>\n",
       "    <tr>\n",
       "      <th>1</th>\n",
       "      <td>4.6</td>\n",
       "      <td>0.179</td>\n",
       "      <td>0.166</td>\n",
       "      <td>0.152</td>\n",
       "      <td>4.6</td>\n",
       "      <td>3.835</td>\n",
       "      <td>3.136</td>\n",
       "    </tr>\n",
       "    <tr>\n",
       "      <th>2</th>\n",
       "      <td>4.6</td>\n",
       "      <td>0.179</td>\n",
       "      <td>0.166</td>\n",
       "      <td>0.152</td>\n",
       "      <td>4.6</td>\n",
       "      <td>3.835</td>\n",
       "      <td>3.136</td>\n",
       "    </tr>\n",
       "    <tr>\n",
       "      <th>3</th>\n",
       "      <td>21.0</td>\n",
       "      <td>0.039</td>\n",
       "      <td>0.043</td>\n",
       "      <td>0.049</td>\n",
       "      <td>21.0</td>\n",
       "      <td>20.090</td>\n",
       "      <td>19.069</td>\n",
       "    </tr>\n",
       "    <tr>\n",
       "      <th>4</th>\n",
       "      <td>5.0</td>\n",
       "      <td>0.164</td>\n",
       "      <td>0.156</td>\n",
       "      <td>0.147</td>\n",
       "      <td>5.0</td>\n",
       "      <td>4.218</td>\n",
       "      <td>3.486</td>\n",
       "    </tr>\n",
       "    <tr>\n",
       "      <th>5</th>\n",
       "      <td>8.5</td>\n",
       "      <td>0.097</td>\n",
       "      <td>0.101</td>\n",
       "      <td>0.105</td>\n",
       "      <td>8.5</td>\n",
       "      <td>7.645</td>\n",
       "      <td>6.752</td>\n",
       "    </tr>\n",
       "    <tr>\n",
       "      <th>6</th>\n",
       "      <td>8.5</td>\n",
       "      <td>0.097</td>\n",
       "      <td>0.101</td>\n",
       "      <td>0.105</td>\n",
       "      <td>8.5</td>\n",
       "      <td>7.645</td>\n",
       "      <td>6.752</td>\n",
       "    </tr>\n",
       "    <tr>\n",
       "      <th>7</th>\n",
       "      <td>34.0</td>\n",
       "      <td>0.024</td>\n",
       "      <td>0.027</td>\n",
       "      <td>0.031</td>\n",
       "      <td>34.0</td>\n",
       "      <td>33.077</td>\n",
       "      <td>32.024</td>\n",
       "    </tr>\n",
       "    <tr>\n",
       "      <th>8</th>\n",
       "      <td>10.0</td>\n",
       "      <td>0.082</td>\n",
       "      <td>0.087</td>\n",
       "      <td>0.093</td>\n",
       "      <td>10.0</td>\n",
       "      <td>9.130</td>\n",
       "      <td>8.205</td>\n",
       "    </tr>\n",
       "    <tr>\n",
       "      <th>9</th>\n",
       "      <td>10.0</td>\n",
       "      <td>0.082</td>\n",
       "      <td>0.087</td>\n",
       "      <td>0.093</td>\n",
       "      <td>10.0</td>\n",
       "      <td>9.130</td>\n",
       "      <td>8.205</td>\n",
       "    </tr>\n",
       "    <tr>\n",
       "      <th>10</th>\n",
       "      <td>31.0</td>\n",
       "      <td>0.026</td>\n",
       "      <td>0.030</td>\n",
       "      <td>0.034</td>\n",
       "      <td>31.0</td>\n",
       "      <td>30.079</td>\n",
       "      <td>29.031</td>\n",
       "    </tr>\n",
       "    <tr>\n",
       "      <th>11</th>\n",
       "      <td>41.0</td>\n",
       "      <td>0.020</td>\n",
       "      <td>0.023</td>\n",
       "      <td>0.026</td>\n",
       "      <td>41.0</td>\n",
       "      <td>40.074</td>\n",
       "      <td>39.012</td>\n",
       "    </tr>\n",
       "    <tr>\n",
       "      <th>12</th>\n",
       "      <td>71.0</td>\n",
       "      <td>0.012</td>\n",
       "      <td>0.013</td>\n",
       "      <td>0.015</td>\n",
       "      <td>71.0</td>\n",
       "      <td>70.066</td>\n",
       "      <td>68.987</td>\n",
       "    </tr>\n",
       "  </tbody>\n",
       "</table>\n",
       "</div>"
      ],
      "text/plain": [
       "    odds      p     ps     pt  nodds  codds2  codds23\n",
       "ID                                                   \n",
       "1    4.6  0.179  0.166  0.152    4.6   3.835    3.136\n",
       "2    4.6  0.179  0.166  0.152    4.6   3.835    3.136\n",
       "3   21.0  0.039  0.043  0.049   21.0  20.090   19.069\n",
       "4    5.0  0.164  0.156  0.147    5.0   4.218    3.486\n",
       "5    8.5  0.097  0.101  0.105    8.5   7.645    6.752\n",
       "6    8.5  0.097  0.101  0.105    8.5   7.645    6.752\n",
       "7   34.0  0.024  0.027  0.031   34.0  33.077   32.024\n",
       "8   10.0  0.082  0.087  0.093   10.0   9.130    8.205\n",
       "9   10.0  0.082  0.087  0.093   10.0   9.130    8.205\n",
       "10  31.0  0.026  0.030  0.034   31.0  30.079   29.031\n",
       "11  41.0  0.020  0.023  0.026   41.0  40.074   39.012\n",
       "12  71.0  0.012  0.013  0.015   71.0  70.066   68.987"
      ]
     },
     "metadata": {},
     "output_type": "display_data"
    }
   ],
   "source": [
    "NR = widgets.IntText(\n",
    "    value=7,\n",
    "    description='# Runners:',\n",
    "    disabled=False)\n",
    "display(NR)\n",
    "\n",
    "button = widgets.Button(description=\"# runners selected\")\n",
    "output = widgets.Output()\n",
    "display(button, output)\n",
    "button.on_click(on_button_clicked)\n",
    "\n",
    "button2 = widgets.Button(description=\"# Do Calculation\")\n",
    "output2 = widgets.Output()\n",
    "display(button2, output2)\n",
    "button2.on_click(calc_cover)"
   ]
  }
 ],
 "metadata": {
  "colab": {
   "collapsed_sections": [],
   "name": "minor_places.ipynb",
   "provenance": [],
   "toc_visible": true
  },
  "hide_input": false,
  "kernelspec": {
   "display_name": "Python 2",
   "language": "python",
   "name": "python2"
  },
  "language_info": {
   "codemirror_mode": {
    "name": "ipython",
    "version": 2
   },
   "file_extension": ".py",
   "mimetype": "text/x-python",
   "name": "python",
   "nbconvert_exporter": "python",
   "pygments_lexer": "ipython2",
   "version": "2.7.17"
  },
  "toc": {
   "base_numbering": 1,
   "nav_menu": {},
   "number_sections": true,
   "sideBar": true,
   "skip_h1_title": true,
   "title_cell": "Table of Contents",
   "title_sidebar": "Contents",
   "toc_cell": true,
   "toc_position": {},
   "toc_section_display": true,
   "toc_window_display": false
  }
 },
 "nbformat": 4,
 "nbformat_minor": 1
}
